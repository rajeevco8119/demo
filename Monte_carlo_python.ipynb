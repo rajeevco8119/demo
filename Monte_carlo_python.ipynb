{
  "nbformat": 4,
  "nbformat_minor": 0,
  "metadata": {
    "colab": {
      "name": "Monte_carlo_python.ipynb",
      "provenance": [],
      "authorship_tag": "ABX9TyN1uqJeJunBauippbJXLBXJ",
      "include_colab_link": true
    },
    "kernelspec": {
      "name": "python3",
      "display_name": "Python 3"
    }
  },
  "cells": [
    {
      "cell_type": "markdown",
      "metadata": {
        "id": "view-in-github",
        "colab_type": "text"
      },
      "source": [
        "<a href=\"https://colab.research.google.com/github/rajeevco8119/demo/blob/master/Monte_carlo_python.ipynb\" target=\"_parent\"><img src=\"https://colab.research.google.com/assets/colab-badge.svg\" alt=\"Open In Colab\"/></a>"
      ]
    },
    {
      "cell_type": "code",
      "metadata": {
        "id": "mUmzpD_DQPi2"
      },
      "source": [
        "import pandas as pd\r\n",
        "import numpy as np\r\n",
        "import seaborn as sns\r\n",
        "\r\n",
        "sns.set_style('whitegrid')\r\n",
        "\r\n",
        "avg = 1\r\n",
        "std_dev = .1\r\n",
        "num_reps = 500\r\n",
        "num_simulations = 1000\r\n",
        "\r\n",
        "sales_target_values = [75_000, 100_000, 200_000, 300_000, 400_000, 500_000]\r\n",
        "sales_target_prob = [.3, .3, .2, .1, .05, .05]\r\n",
        "sales_target = np.random.choice(sales_target_values, num_reps, p=sales_target_prob)\r\n",
        "\r\n",
        "def calc_commission_rate(x):\r\n",
        "    \"\"\" Return the commission rate based on the table:\r\n",
        "    0-90% = 2%\r\n",
        "    91-99% = 3%\r\n",
        "    >= 100 = 4%\r\n",
        "    \"\"\"\r\n",
        "    if x <= .90:\r\n",
        "        return .02\r\n",
        "    if x <= .99:\r\n",
        "        return .03\r\n",
        "    else:\r\n",
        "        return .04\r\n",
        "\r\n",
        "all_stats = []\r\n",
        "\r\n",
        "# Loop through many simulations\r\n",
        "for i in range(num_simulations):\r\n",
        "\r\n",
        "    # Choose random inputs for the sales targets and percent to target\r\n",
        "    sales_target = np.random.choice(sales_target_values, num_reps, p=sales_target_prob)\r\n",
        "    pct_to_target = np.random.normal(avg, std_dev, num_reps).round(2)\r\n",
        "\r\n",
        "    # Build the dataframe based on the inputs and number of reps\r\n",
        "    df = pd.DataFrame(index=range(num_reps), data={'Pct_To_Target': pct_to_target,\r\n",
        "                                                   'Sales_Target': sales_target})\r\n",
        "\r\n",
        "    # Back into the sales number using the percent to target rate\r\n",
        "    df['Sales'] = df['Pct_To_Target'] * df['Sales_Target']\r\n",
        "\r\n",
        "    # Determine the commissions rate and calculate it\r\n",
        "    df['Commission_Rate'] = df['Pct_To_Target'].apply(calc_commission_rate)\r\n",
        "    df['Commission_Amount'] = df['Commission_Rate'] * df['Sales']\r\n",
        "\r\n",
        "    # We want to track sales,commission amounts and sales targets over all the simulations\r\n",
        "    all_stats.append([df['Sales'].sum().round(0),\r\n",
        "                      df['Commission_Amount'].sum().round(0),\r\n",
        "                      df['Sales_Target'].sum().round(0)])"
      ],
      "execution_count": 8,
      "outputs": []
    },
    {
      "cell_type": "code",
      "metadata": {
        "id": "mbJ1UY12QZtm"
      },
      "source": [
        "results_df = pd.DataFrame.from_records(all_stats, columns=['Sales',\r\n",
        "                                                           'Commission_Amount',\r\n",
        "                                                           'Sales_Target'])"
      ],
      "execution_count": 9,
      "outputs": []
    },
    {
      "cell_type": "code",
      "metadata": {
        "colab": {
          "base_uri": "https://localhost:8080/",
          "height": 205
        },
        "id": "0lMcFSCLQe32",
        "outputId": "e0ad1fb8-7638-44bd-8458-38489d1eee72"
      },
      "source": [
        "results_df.describe().style.format('{:,}')"
      ],
      "execution_count": 10,
      "outputs": [
        {
          "output_type": "execute_result",
          "data": {
            "text/html": [
              "<style  type=\"text/css\" >\n",
              "</style><table id=\"T_65f4caba_8265_11eb_9bce_0242ac1c0002\" ><thead>    <tr>        <th class=\"blank level0\" ></th>        <th class=\"col_heading level0 col0\" >Sales</th>        <th class=\"col_heading level0 col1\" >Commission_Amount</th>        <th class=\"col_heading level0 col2\" >Sales_Target</th>    </tr></thead><tbody>\n",
              "                <tr>\n",
              "                        <th id=\"T_65f4caba_8265_11eb_9bce_0242ac1c0002level0_row0\" class=\"row_heading level0 row0\" >count</th>\n",
              "                        <td id=\"T_65f4caba_8265_11eb_9bce_0242ac1c0002row0_col0\" class=\"data row0 col0\" >1,000.0</td>\n",
              "                        <td id=\"T_65f4caba_8265_11eb_9bce_0242ac1c0002row0_col1\" class=\"data row0 col1\" >1,000.0</td>\n",
              "                        <td id=\"T_65f4caba_8265_11eb_9bce_0242ac1c0002row0_col2\" class=\"data row0 col2\" >1,000.0</td>\n",
              "            </tr>\n",
              "            <tr>\n",
              "                        <th id=\"T_65f4caba_8265_11eb_9bce_0242ac1c0002level0_row1\" class=\"row_heading level0 row1\" >mean</th>\n",
              "                        <td id=\"T_65f4caba_8265_11eb_9bce_0242ac1c0002row1_col0\" class=\"data row1 col0\" >83,781,893.0</td>\n",
              "                        <td id=\"T_65f4caba_8265_11eb_9bce_0242ac1c0002row1_col1\" class=\"data row1 col1\" >2,862,098.882</td>\n",
              "                        <td id=\"T_65f4caba_8265_11eb_9bce_0242ac1c0002row1_col2\" class=\"data row1 col2\" >83,768,475.0</td>\n",
              "            </tr>\n",
              "            <tr>\n",
              "                        <th id=\"T_65f4caba_8265_11eb_9bce_0242ac1c0002level0_row2\" class=\"row_heading level0 row2\" >std</th>\n",
              "                        <td id=\"T_65f4caba_8265_11eb_9bce_0242ac1c0002row2_col0\" class=\"data row2 col0\" >2,681,934.406209483</td>\n",
              "                        <td id=\"T_65f4caba_8265_11eb_9bce_0242ac1c0002row2_col1\" class=\"data row2 col1\" >101,225.79860241554</td>\n",
              "                        <td id=\"T_65f4caba_8265_11eb_9bce_0242ac1c0002row2_col2\" class=\"data row2 col2\" >2,647,659.466401415</td>\n",
              "            </tr>\n",
              "            <tr>\n",
              "                        <th id=\"T_65f4caba_8265_11eb_9bce_0242ac1c0002level0_row3\" class=\"row_heading level0 row3\" >min</th>\n",
              "                        <td id=\"T_65f4caba_8265_11eb_9bce_0242ac1c0002row3_col0\" class=\"data row3 col0\" >75,960,500.0</td>\n",
              "                        <td id=\"T_65f4caba_8265_11eb_9bce_0242ac1c0002row3_col1\" class=\"data row3 col1\" >2,565,675.0</td>\n",
              "                        <td id=\"T_65f4caba_8265_11eb_9bce_0242ac1c0002row3_col2\" class=\"data row3 col2\" >76,050,000.0</td>\n",
              "            </tr>\n",
              "            <tr>\n",
              "                        <th id=\"T_65f4caba_8265_11eb_9bce_0242ac1c0002level0_row4\" class=\"row_heading level0 row4\" >25%</th>\n",
              "                        <td id=\"T_65f4caba_8265_11eb_9bce_0242ac1c0002row4_col0\" class=\"data row4 col0\" >81,883,437.5</td>\n",
              "                        <td id=\"T_65f4caba_8265_11eb_9bce_0242ac1c0002row4_col1\" class=\"data row4 col1\" >2,792,277.5</td>\n",
              "                        <td id=\"T_65f4caba_8265_11eb_9bce_0242ac1c0002row4_col2\" class=\"data row4 col2\" >81,950,000.0</td>\n",
              "            </tr>\n",
              "            <tr>\n",
              "                        <th id=\"T_65f4caba_8265_11eb_9bce_0242ac1c0002level0_row5\" class=\"row_heading level0 row5\" >50%</th>\n",
              "                        <td id=\"T_65f4caba_8265_11eb_9bce_0242ac1c0002row5_col0\" class=\"data row5 col0\" >83,827,250.0</td>\n",
              "                        <td id=\"T_65f4caba_8265_11eb_9bce_0242ac1c0002row5_col1\" class=\"data row5 col1\" >2,862,758.5</td>\n",
              "                        <td id=\"T_65f4caba_8265_11eb_9bce_0242ac1c0002row5_col2\" class=\"data row5 col2\" >83,850,000.0</td>\n",
              "            </tr>\n",
              "            <tr>\n",
              "                        <th id=\"T_65f4caba_8265_11eb_9bce_0242ac1c0002level0_row6\" class=\"row_heading level0 row6\" >75%</th>\n",
              "                        <td id=\"T_65f4caba_8265_11eb_9bce_0242ac1c0002row6_col0\" class=\"data row6 col0\" >85,516,562.5</td>\n",
              "                        <td id=\"T_65f4caba_8265_11eb_9bce_0242ac1c0002row6_col1\" class=\"data row6 col1\" >2,930,294.0</td>\n",
              "                        <td id=\"T_65f4caba_8265_11eb_9bce_0242ac1c0002row6_col2\" class=\"data row6 col2\" >85,506,250.0</td>\n",
              "            </tr>\n",
              "            <tr>\n",
              "                        <th id=\"T_65f4caba_8265_11eb_9bce_0242ac1c0002level0_row7\" class=\"row_heading level0 row7\" >max</th>\n",
              "                        <td id=\"T_65f4caba_8265_11eb_9bce_0242ac1c0002row7_col0\" class=\"data row7 col0\" >92,491,250.0</td>\n",
              "                        <td id=\"T_65f4caba_8265_11eb_9bce_0242ac1c0002row7_col1\" class=\"data row7 col1\" >3,184,670.0</td>\n",
              "                        <td id=\"T_65f4caba_8265_11eb_9bce_0242ac1c0002row7_col2\" class=\"data row7 col2\" >92,675,000.0</td>\n",
              "            </tr>\n",
              "    </tbody></table>"
            ],
            "text/plain": [
              "<pandas.io.formats.style.Styler at 0x7f70dc6ee950>"
            ]
          },
          "metadata": {
            "tags": []
          },
          "execution_count": 10
        }
      ]
    }
  ]
}